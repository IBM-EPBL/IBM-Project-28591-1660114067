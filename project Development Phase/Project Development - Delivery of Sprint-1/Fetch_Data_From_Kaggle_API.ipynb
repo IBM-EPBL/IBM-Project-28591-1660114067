{
  "nbformat": 4,
  "nbformat_minor": 0,
  "metadata": {
    "colab": {
      "provenance": [],
      "collapsed_sections": []
    },
    "kernelspec": {
      "name": "python3",
      "display_name": "Python 3"
    },
    "language_info": {
      "name": "python"
    }
  },
  "cells": [
    {
      "cell_type": "code",
      "execution_count": 14,
      "metadata": {
        "id": "N0gcvMY9Y4wL"
      },
      "outputs": [],
      "source": [
        "pip install -q kaggle"
      ]
    },
    {
      "cell_type": "code",
      "source": [
        "!mkdir ~/.kaggle"
      ],
      "metadata": {
        "id": "13ibZoP_ZBsL",
        "colab": {
          "base_uri": "https://localhost:8080/"
        },
        "outputId": "dec087ea-1573-4f3b-e2ad-5200c51d9748"
      },
      "execution_count": 15,
      "outputs": [
        {
          "output_type": "stream",
          "name": "stdout",
          "text": [
            "mkdir: cannot create directory ‘/root/.kaggle’: File exists\n"
          ]
        }
      ]
    },
    {
      "cell_type": "code",
      "source": [
        "!cp kaggle.json ~/.kaggle/"
      ],
      "metadata": {
        "id": "OZJRbL9DZO7V"
      },
      "execution_count": 16,
      "outputs": []
    },
    {
      "cell_type": "code",
      "source": [
        "!chmod 600 ~/.kaggle/kaggle.json"
      ],
      "metadata": {
        "id": "sh7emIdyZYAR"
      },
      "execution_count": 17,
      "outputs": []
    },
    {
      "cell_type": "code",
      "source": [
        "!kaggle datasets download -d dineshbabus123/heartdisease"
      ],
      "metadata": {
        "colab": {
          "base_uri": "https://localhost:8080/"
        },
        "id": "c5mMNFLzZjJO",
        "outputId": "4676adab-0c23-464e-e286-71f82c303e5c"
      },
      "execution_count": 18,
      "outputs": [
        {
          "output_type": "stream",
          "name": "stdout",
          "text": [
            "Downloading heartdisease.zip to /content\n",
            "\r  0% 0.00/3.41k [00:00<?, ?B/s]\n",
            "\r100% 3.41k/3.41k [00:00<00:00, 6.05MB/s]\n"
          ]
        }
      ]
    },
    {
      "cell_type": "code",
      "source": [
        "!unzip /content/heartdisease.zip"
      ],
      "metadata": {
        "colab": {
          "base_uri": "https://localhost:8080/"
        },
        "id": "EflbgQBeeQ8Z",
        "outputId": "ecea9317-8bb6-4f58-f23a-a8b3c57b8511"
      },
      "execution_count": 19,
      "outputs": [
        {
          "output_type": "stream",
          "name": "stdout",
          "text": [
            "Archive:  /content/heartdisease.zip\n",
            "  inflating: Heart_Disease_Prediction.csv  \n"
          ]
        }
      ]
    }
  ]
}